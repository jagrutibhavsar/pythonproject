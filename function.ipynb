{
 "cells": [
  {
   "cell_type": "code",
   "execution_count": null,
   "id": "0756a28c",
   "metadata": {},
   "outputs": [],
   "source": [
    "#function\n",
    "\n",
    "block of code which perform given task\n",
    "once we create function we can call it no.of times"
   ]
  },
  {
   "cell_type": "code",
   "execution_count": null,
   "id": "28e6e05c",
   "metadata": {},
   "outputs": [],
   "source": [
    "def function_name(arguments/paramaters):\n",
    "    block of code \n",
    "    return variable"
   ]
  },
  {
   "cell_type": "code",
   "execution_count": 1,
   "id": "d760e73c",
   "metadata": {},
   "outputs": [],
   "source": [
    "def add():\n",
    "    print(\"Program started\")\n",
    "    x=int(input(\"Enter the number:\"))\n",
    "    y=int(input(\"Enter the second number:\"))\n",
    "    print(x+y)\n",
    "    "
   ]
  },
  {
   "cell_type": "code",
   "execution_count": 2,
   "id": "f44c1dd9",
   "metadata": {},
   "outputs": [
    {
     "name": "stdout",
     "output_type": "stream",
     "text": [
      "Program started\n",
      "Enter the number:10\n",
      "Enter the second number:30\n",
      "40\n"
     ]
    }
   ],
   "source": [
    "add()"
   ]
  },
  {
   "cell_type": "code",
   "execution_count": null,
   "id": "d1e0a16a",
   "metadata": {},
   "outputs": [],
   "source": []
  },
  {
   "cell_type": "code",
   "execution_count": 3,
   "id": "776ff161",
   "metadata": {},
   "outputs": [
    {
     "name": "stdout",
     "output_type": "stream",
     "text": [
      "Program started\n",
      "Enter the number:50\n",
      "Enter the second number:60\n",
      "110\n"
     ]
    }
   ],
   "source": [
    "add()"
   ]
  },
  {
   "cell_type": "code",
   "execution_count": 15,
   "id": "1a5b83ab",
   "metadata": {},
   "outputs": [],
   "source": [
    "def addwithpara(x,y): #formal arguments\n",
    "    c=x+y\n",
    "    print(c)"
   ]
  },
  {
   "cell_type": "code",
   "execution_count": 17,
   "id": "276a928a",
   "metadata": {},
   "outputs": [
    {
     "name": "stdout",
     "output_type": "stream",
     "text": [
      "50\n"
     ]
    }
   ],
   "source": [
    "addwithpara(10,40) #actual arguments"
   ]
  },
  {
   "cell_type": "code",
   "execution_count": 19,
   "id": "e10a3aa0",
   "metadata": {},
   "outputs": [],
   "source": [
    "def addwithpara(x,y): #formal arguments\n",
    "    c=x+y\n",
    "    return c"
   ]
  },
  {
   "cell_type": "code",
   "execution_count": 22,
   "id": "41141957",
   "metadata": {},
   "outputs": [],
   "source": [
    "d = addwithpara(10,50)"
   ]
  },
  {
   "cell_type": "code",
   "execution_count": 23,
   "id": "4cffa072",
   "metadata": {},
   "outputs": [
    {
     "data": {
      "text/plain": [
       "60"
      ]
     },
     "execution_count": 23,
     "metadata": {},
     "output_type": "execute_result"
    }
   ],
   "source": [
    "d"
   ]
  },
  {
   "cell_type": "code",
   "execution_count": null,
   "id": "775e1163",
   "metadata": {},
   "outputs": [],
   "source": [
    "function with no arguments no return type\n",
    "function with agr no return type\n",
    "function with no agrument return type\n",
    "function with agruments with return type"
   ]
  },
  {
   "cell_type": "code",
   "execution_count": null,
   "id": "67a16b4f",
   "metadata": {},
   "outputs": [],
   "source": []
  },
  {
   "cell_type": "code",
   "execution_count": 24,
   "id": "1007e142",
   "metadata": {},
   "outputs": [],
   "source": [
    "#function with no arguments no return type"
   ]
  },
  {
   "cell_type": "code",
   "execution_count": 25,
   "id": "2832d560",
   "metadata": {},
   "outputs": [],
   "source": [
    "def mul():\n",
    "    x=10\n",
    "    y=5\n",
    "    print(x*y)"
   ]
  },
  {
   "cell_type": "code",
   "execution_count": 26,
   "id": "d9e07543",
   "metadata": {},
   "outputs": [
    {
     "name": "stdout",
     "output_type": "stream",
     "text": [
      "50\n"
     ]
    }
   ],
   "source": [
    "mul()"
   ]
  },
  {
   "cell_type": "code",
   "execution_count": 27,
   "id": "1e208504",
   "metadata": {},
   "outputs": [],
   "source": [
    "#function with agr no return type"
   ]
  },
  {
   "cell_type": "code",
   "execution_count": 28,
   "id": "af026f2e",
   "metadata": {},
   "outputs": [],
   "source": [
    "def checknum(no):\n",
    "    if no>=0:\n",
    "        print(f\"{no} is positive\")\n",
    "    else:\n",
    "        print(f\"{no} is negative\")"
   ]
  },
  {
   "cell_type": "code",
   "execution_count": 29,
   "id": "fc9f5c49",
   "metadata": {},
   "outputs": [
    {
     "name": "stdout",
     "output_type": "stream",
     "text": [
      "55 is positive\n"
     ]
    }
   ],
   "source": [
    "checknum(55)"
   ]
  },
  {
   "cell_type": "code",
   "execution_count": 30,
   "id": "5af4e06b",
   "metadata": {},
   "outputs": [
    {
     "name": "stdout",
     "output_type": "stream",
     "text": [
      "-5 is negative\n"
     ]
    }
   ],
   "source": [
    "checknum(-5)"
   ]
  },
  {
   "cell_type": "code",
   "execution_count": 31,
   "id": "af32a4eb",
   "metadata": {},
   "outputs": [
    {
     "name": "stdout",
     "output_type": "stream",
     "text": [
      "12344 is positive\n"
     ]
    }
   ],
   "source": [
    "checknum(12344)"
   ]
  },
  {
   "cell_type": "code",
   "execution_count": 36,
   "id": "80404c88",
   "metadata": {},
   "outputs": [
    {
     "name": "stdout",
     "output_type": "stream",
     "text": [
      "Enter the number:50\n"
     ]
    },
    {
     "data": {
      "text/plain": [
       "'50 is even number'"
      ]
     },
     "execution_count": 36,
     "metadata": {},
     "output_type": "execute_result"
    }
   ],
   "source": [
    "def evenodd():\n",
    "    x=int(input(\"Enter the number:\"))\n",
    "    if x%2==0:\n",
    "        return f\"{x} is even number\"\n",
    "    else:\n",
    "        return f\"{x} is odd number\"\n"
   ]
  },
  {
   "cell_type": "code",
   "execution_count": 37,
   "id": "e67ace26",
   "metadata": {},
   "outputs": [
    {
     "name": "stdout",
     "output_type": "stream",
     "text": [
      "Enter the number:899\n"
     ]
    },
    {
     "data": {
      "text/plain": [
       "'899 is odd number'"
      ]
     },
     "execution_count": 37,
     "metadata": {},
     "output_type": "execute_result"
    }
   ],
   "source": [
    "evenodd()"
   ]
  },
  {
   "cell_type": "code",
   "execution_count": null,
   "id": "7528d0cd",
   "metadata": {},
   "outputs": [],
   "source": []
  },
  {
   "cell_type": "code",
   "execution_count": null,
   "id": "5708865a",
   "metadata": {},
   "outputs": [],
   "source": []
  },
  {
   "cell_type": "code",
   "execution_count": null,
   "id": "4b15ba4c",
   "metadata": {},
   "outputs": [],
   "source": []
  },
  {
   "cell_type": "code",
   "execution_count": 48,
   "id": "5bb0ee6e",
   "metadata": {},
   "outputs": [],
   "source": [
    "#with arguments with return type\n",
    "\n"
   ]
  },
  {
   "cell_type": "code",
   "execution_count": 49,
   "id": "90b8b8d7",
   "metadata": {},
   "outputs": [
    {
     "name": "stdout",
     "output_type": "stream",
     "text": [
      "Welcome to Bank application\n",
      "Enter the name:arun\n",
      "Enter the age:10\n",
      "Pls wait for one year.....\n",
      "Thanks for visitings\n"
     ]
    }
   ],
   "source": [
    "def checkage(y):\n",
    "    if y<=18:\n",
    "        return False\n",
    "    else:\n",
    "        return True\n",
    "print(\"Welcome to Bank application\")\n",
    "name=input(\"Enter the name:\")\n",
    "age=int(input(\"Enter the age:\"))\n",
    "valid_age = checkage(age)\n",
    "if valid_age:\n",
    "    city=input(\"Enter the city name:\")\n",
    "    print(\"Further details.....\")\n",
    "else:\n",
    "    print(\"Pls wait for one year.....\")\n",
    "print(\"Thanks for visitings\")\n",
    "\n"
   ]
  },
  {
   "cell_type": "code",
   "execution_count": null,
   "id": "da1c7535",
   "metadata": {},
   "outputs": [],
   "source": [
    "#arguments\n",
    "1.positinal arguments\n",
    "2.defualt arguments\n",
    "3.variable length arguments(**arg)\n",
    "4.keyword arguments \n",
    "5.variable length keyword arguments(**kwarg)"
   ]
  },
  {
   "cell_type": "code",
   "execution_count": null,
   "id": "c50f8bcb",
   "metadata": {},
   "outputs": [],
   "source": []
  },
  {
   "cell_type": "code",
   "execution_count": 52,
   "id": "7e28db4e",
   "metadata": {},
   "outputs": [],
   "source": [
    "def details(name,age,city):\n",
    "    print(f\"age={age}\")\n",
    "    print(f\"name={name}\")\n",
    "    print(f\"city={city}\")"
   ]
  },
  {
   "cell_type": "code",
   "execution_count": 53,
   "id": "73e77633",
   "metadata": {},
   "outputs": [
    {
     "name": "stdout",
     "output_type": "stream",
     "text": [
      "age=21\n",
      "name=Sunil\n",
      "city=pune\n"
     ]
    }
   ],
   "source": [
    "details('Sunil',21,'pune')"
   ]
  },
  {
   "cell_type": "code",
   "execution_count": 54,
   "id": "f5b037d6",
   "metadata": {},
   "outputs": [
    {
     "name": "stdout",
     "output_type": "stream",
     "text": [
      "age=akash\n",
      "name=34\n",
      "city=mumbai\n"
     ]
    }
   ],
   "source": [
    "details(34,'akash','mumbai')"
   ]
  },
  {
   "cell_type": "code",
   "execution_count": null,
   "id": "69e79a34",
   "metadata": {},
   "outputs": [],
   "source": [
    "while \n",
    "menu\n"
   ]
  }
 ],
 "metadata": {
  "kernelspec": {
   "display_name": "Python 3",
   "language": "python",
   "name": "python3"
  },
  "language_info": {
   "codemirror_mode": {
    "name": "ipython",
    "version": 3
   },
   "file_extension": ".py",
   "mimetype": "text/x-python",
   "name": "python",
   "nbconvert_exporter": "python",
   "pygments_lexer": "ipython3",
   "version": "3.8.8"
  }
 },
 "nbformat": 4,
 "nbformat_minor": 5
}
