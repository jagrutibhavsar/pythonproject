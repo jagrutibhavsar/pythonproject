{
 "cells": [
  {
   "cell_type": "code",
   "execution_count": 4,
   "id": "b3d116be",
   "metadata": {},
   "outputs": [
    {
     "name": "stdout",
     "output_type": "stream",
     "text": [
      "i= 0 j= 0\n",
      "i= 0 j= 1\n",
      "i= 0 j= 2\n",
      "i= 0 j= 3\n",
      "\n",
      "i= 1 j= 0\n",
      "i= 1 j= 1\n",
      "i= 1 j= 2\n",
      "i= 1 j= 3\n",
      "\n",
      "i= 2 j= 0\n",
      "i= 2 j= 1\n",
      "i= 2 j= 2\n",
      "i= 2 j= 3\n",
      "\n",
      "i= 3 j= 0\n",
      "i= 3 j= 1\n",
      "i= 3 j= 2\n",
      "i= 3 j= 3\n",
      "\n"
     ]
    }
   ],
   "source": [
    "for i in range(4):\n",
    "    for j in range(4):\n",
    "        print(\"i=\",i,'j=',j)\n",
    "    print()"
   ]
  },
  {
   "cell_type": "code",
   "execution_count": 8,
   "id": "7af9918d",
   "metadata": {},
   "outputs": [
    {
     "name": "stdout",
     "output_type": "stream",
     "text": [
      "1 \n",
      "1 2 \n",
      "1 2 3 \n",
      "1 2 3 4 \n"
     ]
    }
   ],
   "source": [
    "for i in range(4):\n",
    "    for j in range(i+1):\n",
    "        print(j+1,end=\" \")\n",
    "    print()"
   ]
  },
  {
   "cell_type": "code",
   "execution_count": null,
   "id": "08e005e6",
   "metadata": {},
   "outputs": [],
   "source": [
    "4321\n",
    "432\n",
    "43\n",
    "4"
   ]
  },
  {
   "cell_type": "code",
   "execution_count": null,
   "id": "27a138aa",
   "metadata": {},
   "outputs": [],
   "source": [
    "\t0\t1\t2\t3\t4\n",
    "0\t\t*\t*\t*\t\n",
    "1\t*\t\t\t\t*\n",
    "2\t*\t\t\t\t*\n",
    "3\t*\t*\t*\t*\t*\n",
    "4\t*\t\t\t\t*\n",
    "5\t*\t\t\t\t*\n",
    "6\t*\t\t\t\t*"
   ]
  },
  {
   "cell_type": "code",
   "execution_count": null,
   "id": "43e54ce2",
   "metadata": {},
   "outputs": [],
   "source": [
    "row==0 & col 1,2,3\n",
    "\n",
    "row {1,2,4,5,6} & col {0,4}\n",
    "\n",
    "row == 3 \n"
   ]
  },
  {
   "cell_type": "code",
   "execution_count": 23,
   "id": "5acb6dfe",
   "metadata": {},
   "outputs": [
    {
     "name": "stdout",
     "output_type": "stream",
     "text": [
      "  * * *   \n",
      "*       * \n",
      "*       * \n",
      "* * * * * \n",
      "*       * \n",
      "*       * \n",
      "*       * \n"
     ]
    }
   ],
   "source": [
    "for row in range(7):\n",
    "    for col in range(5):\n",
    "        if row==0 and col in {1,2,3}:\n",
    "            print('*',end=' ')\n",
    "        elif row in {1,2,4,5,6} and col in {0,4}:\n",
    "            print('*',end=' ')\n",
    "        elif row==3:\n",
    "            print(\"*\",end=' ')\n",
    "        else:\n",
    "            print('  ',end='')\n",
    "    print()\n"
   ]
  },
  {
   "cell_type": "code",
   "execution_count": 24,
   "id": "8621dfc0",
   "metadata": {},
   "outputs": [
    {
     "name": "stdout",
     "output_type": "stream",
     "text": [
      "  * * *   \n",
      "*       * \n",
      "*       * \n",
      "*       * \n",
      "*       * \n",
      "*       * \n",
      "  * * *   \n"
     ]
    }
   ],
   "source": [
    "for row in range(7):\n",
    "    for col in range(5):\n",
    "        if row in {0,6} and col in {1,2,3}:\n",
    "            print('*',end=' ')\n",
    "        elif row in {1,2,4,3,5} and col in {0,4}:\n",
    "            print('*',end=' ')\n",
    "        \n",
    "        else:\n",
    "            print('  ',end='')\n",
    "    print()\n"
   ]
  },
  {
   "cell_type": "code",
   "execution_count": null,
   "id": "bc2a30c7",
   "metadata": {},
   "outputs": [],
   "source": []
  }
 ],
 "metadata": {
  "kernelspec": {
   "display_name": "Python 3",
   "language": "python",
   "name": "python3"
  },
  "language_info": {
   "codemirror_mode": {
    "name": "ipython",
    "version": 3
   },
   "file_extension": ".py",
   "mimetype": "text/x-python",
   "name": "python",
   "nbconvert_exporter": "python",
   "pygments_lexer": "ipython3",
   "version": "3.8.8"
  }
 },
 "nbformat": 4,
 "nbformat_minor": 5
}
